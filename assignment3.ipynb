{
  "cells": [
    {
      "cell_type": "markdown",
      "metadata": {
        "id": "view-in-github",
        "colab_type": "text"
      },
      "source": [
        "<a href=\"https://colab.research.google.com/github/IssabellaZ/MA3K7/blob/main/assignment3.ipynb\" target=\"_parent\"><img src=\"https://colab.research.google.com/assets/colab-badge.svg\" alt=\"Open In Colab\"/></a>"
      ]
    },
    {
      "cell_type": "code",
      "execution_count": null,
      "metadata": {
        "id": "1aoPYgDbufZr"
      },
      "outputs": [],
      "source": [
        "import random\n",
        "\n",
        "# adjust the N value here\n",
        "N = 2024\n",
        "\n",
        "# adjust the iteration time here\n",
        "t = 10000\n",
        "\n",
        "# empty list to store all last numbers\n",
        "all = []\n",
        "\n",
        "def hat_game():\n",
        "  l = list(range(1,N+1))\n",
        "\n",
        "  # create a copy of the list\n",
        "  d = l.copy()\n",
        "\n",
        "  while len(d)>1:\n",
        "    # randomly choose two element from the list\n",
        "    x,y = random.sample(d, k=2)\n",
        "\n",
        "    # remove the two element drawn\n",
        "    d.remove(x)\n",
        "    d.remove(y)\n",
        "\n",
        "    # add the new number to the list\n",
        "    d.append(abs(x-y))\n",
        "\n",
        "  return d\n",
        "\n",
        "\n",
        "# store the last numbers to a list\n",
        "for _ in range(t):\n",
        "  res = hat_game()\n",
        "  all+=res\n",
        "\n",
        "all.sort()\n",
        "print(\"All:\",all)"
      ]
    },
    {
      "cell_type": "code",
      "execution_count": null,
      "metadata": {
        "id": "0NRe7sXhVfqy"
      },
      "outputs": [],
      "source": [
        "unique_result = set(all)\n",
        "print(\"Unique last numbers:\",unique_result)\n",
        "\n",
        "all_even_numbers = range(0,N+1,2)\n",
        "print(\"Not appeared numbers: \",set(all_even_numbers)-unique_result)"
      ]
    },
    {
      "cell_type": "code",
      "execution_count": 15,
      "metadata": {
        "colab": {
          "base_uri": "https://localhost:8080/",
          "height": 527
        },
        "id": "uSRdho0sXHOj",
        "outputId": "8901726f-8ac8-4334-89a2-1ebf2c8cad17"
      },
      "outputs": [
        {
          "output_type": "display_data",
          "data": {
            "text/plain": [
              "<Figure size 500x500 with 1 Axes>"
            ],
            "image/png": "[encoded data removed]"
          },
          "metadata": {}
        }
      ],
      "source": [
        "import seaborn as sns\n",
        "import matplotlib.pyplot as plt\n",
        "\n",
        "%matplotlib inline\n",
        "\n",
        "# set style\n",
        "sns.set_style(\"darkgrid\")\n",
        "\n",
        "# distribution plot\n",
        "plot = sns.displot(all, kde=True,discrete=True, binwidth=1)\n",
        "\n",
        "# label axis\n",
        "plt.ylabel(\"Count\",fontsize=11.5)\n",
        "plt.xlabel('Numbers',fontsize=11.5)\n",
        "plt.show()"
      ]
    },
    {
      "cell_type": "code",
      "execution_count": null,
      "metadata": {
        "id": "sh8H0gNCgPMf"
      },
      "outputs": [],
      "source": [
        "from collections import Counter\n",
        "\n",
        "# Count frequency of each number\n",
        "count_dict = Counter(all)\n",
        "\n",
        "# Find the mode and count\n",
        "mode = max(count_dict, key=count_dict.get)\n",
        "mode_count = count_dict[mode]\n",
        "\n",
        "print(\"Mode:\", mode)\n",
        "print(\"Frequency:\", mode_count)"
      ]
    },
    {
      "cell_type": "code",
      "execution_count": 5,
      "metadata": {
        "id": "mA8A18lysQ_n",
        "colab": {
          "base_uri": "https://localhost:8080/"
        },
        "outputId": "ef952977-82c7-478e-f48c-eef585d410b7"
      },
      "outputs": [
        {
          "output_type": "stream",
          "name": "stdout",
          "text": [
            "Distribution:  norm KS statistic:  0.12429958954582088 p-value:  4.007790096552722e-135\n",
            "Distribution:  skewnorm KS statistic:  0.07021295578706926 p-value:  2.5964305215097705e-43\n",
            "Distribution:  expon KS statistic:  0.04066134499849278 p-value:  8.385282152954844e-15\n",
            "Distribution:  gamma KS statistic:  0.026457742502126846 p-value:  1.630530276614375e-06\n",
            "Distribution:  poisson KS statistic:  0.5446449395878571 p-value:  0.0\n",
            "Distribution:  chi2 KS statistic:  0.026457643704902445 p-value:  1.6307009270541453e-06\n"
          ]
        }
      ],
      "source": [
        "import numpy as np\n",
        "import scipy.stats as stats\n",
        "\n",
        "# list of distributions\n",
        "dist_names = ['norm','skewnorm','expon', 'gamma', 'poisson', 'chi2']\n",
        "\n",
        "results = {}\n",
        "\n",
        "for dist in dist_names:\n",
        "    # get distribution class\n",
        "    dist_class = getattr(stats, dist)\n",
        "\n",
        "    # fit distribution to data\n",
        "    if dist == 'poisson':  # discrete Poisson distribution\n",
        "        mu = np.mean(all)\n",
        "        params = (mu,) # set parameter\n",
        "    else:  # continuous distributions\n",
        "        params = dist_class.fit(all) # get parameter\n",
        "\n",
        "    # perform goodness-of-fit test\n",
        "    kstest_statistic, kstest_pvalue = stats.kstest(all, dist, args=params)\n",
        "\n",
        "    results[dist] = (kstest_statistic, kstest_pvalue)\n",
        "\n",
        "for dist, (statistic, pvalue) in results.items(): # retrieve value from dictionary\n",
        "    print(\"Distribution: \", dist ,\"KS statistic: \",statistic, \"p-value: \",pvalue)\n"
      ]
    }
  ],
  "metadata": {
    "colab": {
      "provenance": [],
      "authorship_tag": "ABX9TyOaJWDJU1X57XEDJXFaotKR",
      "include_colab_link": true
    },
    "kernelspec": {
      "display_name": "Python 3",
      "name": "python3"
    },
    "language_info": {
      "name": "python"
    }
  },
  "nbformat": 4,
  "nbformat_minor": 0
}