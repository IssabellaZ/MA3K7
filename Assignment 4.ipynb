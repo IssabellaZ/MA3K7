{
 "cells": [
  {
   "cell_type": "code",
   "execution_count": 1,
   "id": "2313de8b-827d-4075-b6a4-95e40957d117",
   "metadata": {},
   "outputs": [
    {
     "name": "stdout",
     "output_type": "stream",
     "text": [
      "P(25) = 11184811/16777216\n"
     ]
    }
   ],
   "source": [
    "from fractions import Fraction\n",
    "\n",
    "def P(n, p):\n",
    "    # Initialize the array\n",
    "    dp = [Fraction(0) for _ in range(n + 1)]\n",
    "\n",
    "    # Base cases\n",
    "    dp[2] = Fraction(1, 2)\n",
    "    dp[3] = Fraction(3, 4)\n",
    "\n",
    "    # Calculate P(n) for n >= 4\n",
    "    for i in range(4, n + 1):\n",
    "        dp[i] = Fraction(1, p) * dp[i - 1] + (1 - Fraction(1, p)) * dp[i - 2]\n",
    "        \n",
    "    return dp[n]\n",
    "\n",
    "# Example run for n>=4:\n",
    "n = 25\n",
    "p = 2\n",
    "result = P(n,p)\n",
    "print(\"P({}) = {}\".format(n, result))\n"
   ]
  },
  {
   "cell_type": "code",
   "execution_count": 4,
   "id": "94950838-7450-4c93-832c-e868134669d9",
   "metadata": {},
   "outputs": [
    {
     "name": "stdout",
     "output_type": "stream",
     "text": [
      "Using matplotlib backend: MacOSX\n"
     ]
    }
   ],
   "source": [
    "import matplotlib.pyplot as plt\n",
    "from matplotlib.widgets import Slider\n",
    "%matplotlib\n",
    "\n",
    "# This case i\n",
    "# I tried using another way to calculate P(n) here, instead of calculating the probability of landing on number n, I used 1 minus the probability of not landing on n.\n",
    "def Prob(n, p):\n",
    "    if n == 0:\n",
    "        return Fraction(0)\n",
    "    else:\n",
    "        return 1 - Fraction(1, p) * Prob(n-1, p)\n",
    "\n",
    "# Initialize the figure and axes\n",
    "fig, ax = plt.subplots()\n",
    "plt.subplots_adjust(bottom=0.2)\n",
    "\n",
    "# Set the initial value of p\n",
    "p = 3\n",
    "n = range(1,31)\n",
    "P_values = [float(Prob(n, p)) for n in n]\n",
    "\n",
    "# Plot P(n) against n\n",
    "line, = ax.plot(n, P_values, marker='o', linestyle='-')\n",
    "plt.xlabel('n')\n",
    "plt.ylabel('P(n)')\n",
    "ax.set_ylim(0, 1.2)\n",
    "ax.set_yticks([i * 0.15 for i in range(9)])\n",
    "plt.grid(True)\n",
    "\n",
    "# Add a slider\n",
    "slider_dim = plt.axes([0.15, 0.1, 0.7, 0.02])\n",
    "slider_p = Slider(slider_dim, 'p', valmin=2, valmax=10, valinit=p, valstep=1) #you can change the max of p in here\n",
    "\n",
    "def update(val):\n",
    "    p = int(slider_p.val)\n",
    "    P_values = [float(Prob(i, p)) for i in n]\n",
    "    line.set_ydata(P_values)\n",
    "    fig.canvas.draw_idle()\n",
    "\n",
    "slider_p.on_changed(update)\n",
    "plt.show()"
   ]
  }
 ],
 "metadata": {
  "kernelspec": {
   "display_name": "Python 3 (ipykernel)",
   "language": "python",
   "name": "python3"
  },
  "language_info": {
   "codemirror_mode": {
    "name": "ipython",
    "version": 3
   },
   "file_extension": ".py",
   "mimetype": "text/x-python",
   "name": "python",
   "nbconvert_exporter": "python",
   "pygments_lexer": "ipython3",
   "version": "3.11.7"
  }
 },
 "nbformat": 4,
 "nbformat_minor": 5
}
